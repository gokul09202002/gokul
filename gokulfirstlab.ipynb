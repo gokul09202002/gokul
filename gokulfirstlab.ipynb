{
  "nbformat": 4,
  "nbformat_minor": 0,
  "metadata": {
    "colab": {
      "name": "gokulfirstlab.ipynb",
      "provenance": [],
      "authorship_tag": "ABX9TyPZhnHjkFbXaRMPX52BZMw8",
      "include_colab_link": true
    },
    "kernelspec": {
      "name": "python3",
      "display_name": "Python 3"
    },
    "language_info": {
      "name": "python"
    }
  },
  "cells": [
    {
      "cell_type": "markdown",
      "metadata": {
        "id": "view-in-github",
        "colab_type": "text"
      },
      "source": [
        "<a href=\"https://colab.research.google.com/github/gokul09202002/gokul/blob/main/gokulfirstlab.ipynb\" target=\"_parent\"><img src=\"https://colab.research.google.com/assets/colab-badge.svg\" alt=\"Open In Colab\"/></a>"
      ]
    },
    {
      "cell_type": "code",
      "execution_count": null,
      "metadata": {
        "colab": {
          "base_uri": "https://localhost:8080/"
        },
        "id": "iOkn6Po2EHCm",
        "outputId": "ecc0218c-0b98-46b3-c07c-205e1e4ad39d"
      },
      "outputs": [
        {
          "output_type": "execute_result",
          "data": {
            "text/plain": [
              "23"
            ]
          },
          "metadata": {},
          "execution_count": 1
        }
      ],
      "source": [
        "a=10\n",
        "b=13\n",
        "c=a+b\n",
        "c"
      ]
    },
    {
      "cell_type": "code",
      "source": [
        "num=8\n",
        "num_sqrt=num**0.5\n",
        "print('the square rootof %0.3f is %0.3f'%(num,num_sqrt))"
      ],
      "metadata": {
        "colab": {
          "base_uri": "https://localhost:8080/"
        },
        "id": "NMQwWiSfqgl4",
        "outputId": "2ce5a1e8-a055-47a1-c963-eb65592c8a74"
      },
      "execution_count": 1,
      "outputs": [
        {
          "output_type": "stream",
          "name": "stdout",
          "text": [
            "the square rootof 8.000 is 2.828\n"
          ]
        }
      ]
    },
    {
      "cell_type": "code",
      "source": [
        "a=0b1010\n",
        "b=100\n",
        "c=0o310\n",
        "d=0x12c\n",
        "float_1=10.5\n",
        "float_2=1.5e2\n",
        "x=3.14j\n",
        "print(a,b,c,d)\n",
        "print(float_1,float_2)\n",
        "print(x,x.imag,x.real)"
      ],
      "metadata": {
        "colab": {
          "base_uri": "https://localhost:8080/"
        },
        "id": "YXy20Oklsq0A",
        "outputId": "4041f989-2427-4779-95c4-3302225aedbe"
      },
      "execution_count": 2,
      "outputs": [
        {
          "output_type": "stream",
          "name": "stdout",
          "text": [
            "10 100 200 300\n",
            "10.5 150.0\n",
            "3.14j 3.14 0.0\n"
          ]
        }
      ]
    },
    {
      "cell_type": "code",
      "source": [
        "string=\"this is python\"\n",
        "char=\"c\"\n",
        "multiline_str=\"\"\"this is a multiline string with more than one line code.\"\"\"\n",
        "unicode=u\"\\u00dcnic\\u00f6de\"\n",
        "raw_str=r\"raw \\n string\"\n",
        "print(string)\n",
        "print(char)\n",
        "print(multiline_str)\n",
        "print(unicode)\n",
        "print(raw_str) "
      ],
      "metadata": {
        "colab": {
          "base_uri": "https://localhost:8080/"
        },
        "id": "Hx2gKFPmt9Q0",
        "outputId": "bbca6260-52e5-4a12-c1ce-aacd86f437ca"
      },
      "execution_count": 4,
      "outputs": [
        {
          "output_type": "stream",
          "name": "stdout",
          "text": [
            "this is python\n",
            "c\n",
            "this is a multiline string with more than one line code.\n",
            "Ünicöde\n",
            "raw \\n string\n"
          ]
        }
      ]
    },
    {
      "cell_type": "code",
      "source": [
        "x =(1==True)\n",
        "y =(1==False)\n",
        "a=True+4\n",
        "b=False+10\n",
        "print(\"x is\",x)\n",
        "print(\"y is\",y)\n",
        "print(\"a:\",a)\n",
        "print(\"b:\",b)"
      ],
      "metadata": {
        "colab": {
          "base_uri": "https://localhost:8080/"
        },
        "id": "Lr-DMgtJvF6t",
        "outputId": "ebe94fa7-ba9d-4551-cf54-5ac9a6e883e0"
      },
      "execution_count": 10,
      "outputs": [
        {
          "output_type": "stream",
          "name": "stdout",
          "text": [
            "x is True\n",
            "y is False\n",
            "a: 5\n",
            "b: 10\n"
          ]
        }
      ]
    },
    {
      "cell_type": "code",
      "source": [
        "drink=\"available\"\n",
        "food=None\n",
        "\n",
        "def menu(x):\n",
        "  if x== drink:\n",
        "    print(drink)\n",
        "  else:\n",
        "      print(food)\n",
        "      menu(drink)\n",
        "      menu(food)\n"
      ],
      "metadata": {
        "id": "tEpbnqG_v-OI"
      },
      "execution_count": 18,
      "outputs": []
    },
    {
      "cell_type": "code",
      "source": [
        ""
      ],
      "metadata": {
        "id": "NiRYoLpDxtmE"
      },
      "execution_count": null,
      "outputs": []
    },
    {
      "cell_type": "code",
      "source": [
        "print (\"Choice 1: Add, 2: Sub, 3: Div, 4: Mul, 5: Quit\")\n",
        "n1 = input(\"Enter the choice of operation :\")\n",
        "n = int(n1)\n",
        "if (n == 1):\n",
        " print (\" You have chosen addition Option :\")\n",
        " a1 = input(\" Enter the value for A :\")\n",
        " b1 = input(\" Enter the value for B :\")\n",
        " a = int(a1)\n",
        " b = int(b1)\n",
        " c = a + b\n",
        " print (\"The Result\",a,\"+\",b,\"=\",c)\n",
        "elif (n == 2):\n",
        " print (\" You have chosen subtraction Option :\")\n",
        " a1 = input(\" Enter the value for A :\")\n",
        " b1 = input(\" Enter the value for B :\")\n",
        " a = int(a1)\n",
        " b = int(b1)\n",
        " c = a - b\n",
        " print (\"The Result\",a,\"-\",b,\"=\",c)\n",
        "elif (n == 3):\n",
        " print (\" You have chosen multiplication Option :\")\n",
        " a1 = input (\" Enter the value for A :\")\n",
        " b1 = input (\" Enter the value for B :\")\n",
        " a = int (a1)\n",
        " b = int (b1)\n",
        " c = a * b\n",
        " print (\"The Result\",a,\"*\",b,\"=\",c)\n",
        "elif (n==4):\n",
        " print (\" You have given a wrong :\",n)\n",
        " exit ()"
      ],
      "metadata": {
        "colab": {
          "base_uri": "https://localhost:8080/"
        },
        "id": "QsDtr0UCz-nD",
        "outputId": "9d11dc5c-6e58-4d89-abf3-35e2ea41998d"
      },
      "execution_count": 21,
      "outputs": [
        {
          "output_type": "stream",
          "name": "stdout",
          "text": [
            "Choice 1: Add, 2: Sub, 3: Div, 4: Mul, 5: Quit\n",
            "Enter the choice of operation :1\n",
            " You have chosen addition Option :\n",
            " Enter the value for A :3\n",
            " Enter the value for B :5\n",
            "The Result 3 + 5 = 8\n"
          ]
        }
      ]
    },
    {
      "cell_type": "code",
      "source": [
        "x=10+10.5\n",
        "print(\"+ OPERATOR IS EVALUATED=\",x)"
      ],
      "metadata": {
        "colab": {
          "base_uri": "https://localhost:8080/"
        },
        "id": "D7zGnrCF1ipk",
        "outputId": "a74a54c6-5ef9-4abd-e0f6-912580ae6c6e"
      },
      "execution_count": 26,
      "outputs": [
        {
          "output_type": "stream",
          "name": "stdout",
          "text": [
            "+ OPERATOR IS EVALUATED= 20.5\n"
          ]
        }
      ]
    },
    {
      "cell_type": "code",
      "source": [
        "x=200+20.5*5\n",
        "print(\"*operator is evaluated\",x)"
      ],
      "metadata": {
        "colab": {
          "base_uri": "https://localhost:8080/"
        },
        "id": "SKqKetAF2O4v",
        "outputId": "4907bc63-7a9d-4cad-b54e-0e7132d7eb3b"
      },
      "execution_count": 27,
      "outputs": [
        {
          "output_type": "stream",
          "name": "stdout",
          "text": [
            "*operator is evaluated 302.5\n"
          ]
        }
      ]
    },
    {
      "cell_type": "code",
      "source": [
        "x= 100 * 5 + (10 %2) ** 1\n",
        "print(x)"
      ],
      "metadata": {
        "colab": {
          "base_uri": "https://localhost:8080/"
        },
        "id": "edsmT0kt2iGJ",
        "outputId": "7055ee0e-ec55-4f10-96aa-e61b32053899"
      },
      "execution_count": 1,
      "outputs": [
        {
          "output_type": "stream",
          "name": "stdout",
          "text": [
            "500\n"
          ]
        }
      ]
    },
    {
      "cell_type": "code",
      "source": [
        "print (\" Fibonacci Series\")\n",
        "n1 = input(\"Enter the number : \")\n",
        "n = int(n1)\n",
        "if (n>0):\n",
        "  f = 0\n",
        "  s = 1\n",
        "  i = 0\n",
        "  next = 0\n",
        "  while (1):\n",
        "   print (\"\\n\\n*******************************************\")\n",
        "   for i in range (n+1):\n",
        "    if (i <= 1):\n",
        "      print(i)\n",
        "    else:\n",
        "      next = f + s\n",
        "      f = s\n",
        "      s = next\n",
        "      print (next)\n",
        "   i = i + 1\n",
        "   break\n",
        "else:\n",
        "  print (\" You have entered wrong input\", n)"
      ],
      "metadata": {
        "colab": {
          "base_uri": "https://localhost:8080/"
        },
        "id": "4AAidzmN4421",
        "outputId": "a6ef918b-16bf-4235-e57e-9438b3865551"
      },
      "execution_count": 28,
      "outputs": [
        {
          "output_type": "stream",
          "name": "stdout",
          "text": [
            " Fibonacci Series\n",
            "Enter the number : 5\n",
            "\n",
            "\n",
            "*******************************************\n",
            "0\n",
            "1\n",
            "1\n",
            "2\n",
            "3\n",
            "5\n"
          ]
        }
      ]
    },
    {
      "cell_type": "code",
      "source": [
        "a = 10\n",
        "b = 4\n",
        "a|b\n",
        "print(a|b)"
      ],
      "metadata": {
        "colab": {
          "base_uri": "https://localhost:8080/"
        },
        "id": "kJAcpQlo70Y5",
        "outputId": "2eadc213-36ff-48e8-882c-d5d7900025a7"
      },
      "execution_count": 32,
      "outputs": [
        {
          "output_type": "stream",
          "name": "stdout",
          "text": [
            "14\n"
          ]
        }
      ]
    },
    {
      "cell_type": "code",
      "source": [
        ""
      ],
      "metadata": {
        "id": "ACbl8sQW53et"
      },
      "execution_count": null,
      "outputs": []
    },
    {
      "cell_type": "code",
      "source": [
        "a=20\n",
        "b=10\n",
        "c=a-b\n",
        "c"
      ],
      "metadata": {
        "colab": {
          "base_uri": "https://localhost:8080/"
        },
        "id": "HWjK49eoEcER",
        "outputId": "63c8e448-5070-45ef-8108-eca6f046df6e"
      },
      "execution_count": null,
      "outputs": [
        {
          "output_type": "execute_result",
          "data": {
            "text/plain": [
              "10"
            ]
          },
          "metadata": {},
          "execution_count": 2
        }
      ]
    },
    {
      "cell_type": "code",
      "source": [
        "x=\"gokul\"\n",
        "type(x)"
      ],
      "metadata": {
        "colab": {
          "base_uri": "https://localhost:8080/"
        },
        "id": "LTeaDsfyE-IM",
        "outputId": "7145c026-fa72-4da4-cd0f-bf86dbc2f0bf"
      },
      "execution_count": null,
      "outputs": [
        {
          "output_type": "execute_result",
          "data": {
            "text/plain": [
              "str"
            ]
          },
          "metadata": {},
          "execution_count": 5
        }
      ]
    },
    {
      "cell_type": "code",
      "source": [
        "y=45\n",
        "type(y)\n"
      ],
      "metadata": {
        "colab": {
          "base_uri": "https://localhost:8080/"
        },
        "id": "D4T39ICRFyWg",
        "outputId": "b1f94835-0dfb-4d68-8b89-44975152ac15"
      },
      "execution_count": null,
      "outputs": [
        {
          "output_type": "execute_result",
          "data": {
            "text/plain": [
              "int"
            ]
          },
          "metadata": {},
          "execution_count": 7
        }
      ]
    },
    {
      "cell_type": "code",
      "source": [
        "x=13e4\n",
        "print(x)\n",
        "type(x)\n"
      ],
      "metadata": {
        "colab": {
          "base_uri": "https://localhost:8080/"
        },
        "id": "nzHxHIDBF92k",
        "outputId": "ff829131-82ee-40b4-bac4-95cadf82b2a6"
      },
      "execution_count": null,
      "outputs": [
        {
          "output_type": "stream",
          "name": "stdout",
          "text": [
            "130000.0\n"
          ]
        },
        {
          "output_type": "execute_result",
          "data": {
            "text/plain": [
              "float"
            ]
          },
          "metadata": {},
          "execution_count": 8
        }
      ]
    },
    {
      "cell_type": "code",
      "source": [
        "x=13j\n",
        "type(x)\n"
      ],
      "metadata": {
        "colab": {
          "base_uri": "https://localhost:8080/"
        },
        "id": "zBC0wOGfGtk8",
        "outputId": "85e20e92-5a96-4d69-fec9-f8429befd7e2"
      },
      "execution_count": null,
      "outputs": [
        {
          "output_type": "execute_result",
          "data": {
            "text/plain": [
              "complex"
            ]
          },
          "metadata": {},
          "execution_count": 9
        }
      ]
    },
    {
      "cell_type": "code",
      "source": [
        "x=15<5\n",
        "type(x)"
      ],
      "metadata": {
        "colab": {
          "base_uri": "https://localhost:8080/"
        },
        "id": "gKEjVVHuHHpE",
        "outputId": "30450164-fe2a-467f-d107-2ad4937208d3"
      },
      "execution_count": null,
      "outputs": [
        {
          "output_type": "execute_result",
          "data": {
            "text/plain": [
              "bool"
            ]
          },
          "metadata": {},
          "execution_count": 10
        }
      ]
    },
    {
      "cell_type": "code",
      "source": [
        "x=\"hello\"\n",
        "y=\"crescent\"\n",
        "z=input()\n",
        "print(\"output=\",x,y,z)"
      ],
      "metadata": {
        "colab": {
          "base_uri": "https://localhost:8080/"
        },
        "id": "6DiLJSKtHntk",
        "outputId": "011b2480-365e-432a-a43f-1fd20a9ed55f"
      },
      "execution_count": null,
      "outputs": [
        {
          "output_type": "stream",
          "name": "stdout",
          "text": [
            "gokul\n",
            "output= hello crescent gokul\n"
          ]
        }
      ]
    },
    {
      "cell_type": "code",
      "source": [
        "name=\"gokula krishnan\"\n",
        "len(name)"
      ],
      "metadata": {
        "colab": {
          "base_uri": "https://localhost:8080/"
        },
        "id": "Le8LPP5PIGso",
        "outputId": "e4c07322-8e09-4e96-b407-08934a065c70"
      },
      "execution_count": null,
      "outputs": [
        {
          "output_type": "execute_result",
          "data": {
            "text/plain": [
              "15"
            ]
          },
          "metadata": {},
          "execution_count": 12
        }
      ]
    },
    {
      "cell_type": "code",
      "source": [
        "name=\"gokul\"\n",
        "name[2]"
      ],
      "metadata": {
        "colab": {
          "base_uri": "https://localhost:8080/",
          "height": 35
        },
        "id": "ppLJ6nK_Ik8r",
        "outputId": "4f4cfdf1-081a-4ec5-d3ec-ff9f2d018621"
      },
      "execution_count": null,
      "outputs": [
        {
          "output_type": "execute_result",
          "data": {
            "application/vnd.google.colaboratory.intrinsic+json": {
              "type": "string"
            },
            "text/plain": [
              "'k'"
            ]
          },
          "metadata": {},
          "execution_count": 15
        }
      ]
    },
    {
      "cell_type": "code",
      "source": [
        "x=input('enter the number:')\n",
        "y=input('enter the nu8mber:')\n",
        "sum=int(x)+int(y)\n",
        "print('the sum {0} and {1} is {2}'.format(x,y,sum))"
      ],
      "metadata": {
        "colab": {
          "base_uri": "https://localhost:8080/"
        },
        "id": "19OMtdofJECB",
        "outputId": "8805e00f-d6c2-4a69-bdd3-3877350fe86c"
      },
      "execution_count": null,
      "outputs": [
        {
          "output_type": "stream",
          "name": "stdout",
          "text": [
            "enter the number:20\n",
            "enter the nu8mber:40\n",
            "the sum 20 and 40 is 60\n"
          ]
        }
      ]
    },
    {
      "cell_type": "code",
      "source": [
        "x={1,2,3,4,5}\n",
        "type(x)"
      ],
      "metadata": {
        "colab": {
          "base_uri": "https://localhost:8080/"
        },
        "id": "PCE2JhP0NCtI",
        "outputId": "5524268a-6386-45e5-f815-5b570f8bdd6b"
      },
      "execution_count": null,
      "outputs": [
        {
          "output_type": "execute_result",
          "data": {
            "text/plain": [
              "set"
            ]
          },
          "metadata": {},
          "execution_count": 27
        }
      ]
    },
    {
      "cell_type": "code",
      "source": [
        "x=(1,2,3,4,5)\n",
        "type(x)"
      ],
      "metadata": {
        "colab": {
          "base_uri": "https://localhost:8080/"
        },
        "id": "Y6UuRRNXNJ4N",
        "outputId": "957bf912-e326-4a52-f1f1-281eed89f876"
      },
      "execution_count": null,
      "outputs": [
        {
          "output_type": "execute_result",
          "data": {
            "text/plain": [
              "tuple"
            ]
          },
          "metadata": {},
          "execution_count": 25
        }
      ]
    }
  ]
}